{
 "cells": [
  {
   "cell_type": "code",
   "execution_count": 26,
   "id": "d72790d0-6af6-48d9-a39b-5fb495152815",
   "metadata": {
    "scrolled": true
   },
   "outputs": [
    {
     "name": "stdout",
     "output_type": "stream",
     "text": [
      "     Employee ID         Full Name                   Job Title   Department  \\\n",
      "0         E02002            Kai Le           Controls Engineer  Engineering   \n",
      "1         E02003      Robert Patel                     Analyst        Sales   \n",
      "2         E02004        Cameron Lo       Network Administrator           IT   \n",
      "3         E02005   Harper Castillo        IT Systems Architect           IT   \n",
      "4         E02006  Harper Dominguez                    Director  Engineering   \n",
      "...          ...               ...                         ...          ...   \n",
      "1257      E02250          Mila Han                     Manager        Sales   \n",
      "1258      E02251   Genesis Herrera                     Manager           IT   \n",
      "1259      E02252    Olivia Vazquez            Network Engineer           IT   \n",
      "1260      E02253        Leilani Ng             Systems Analyst           IT   \n",
      "1261      E02254    Olivia Mendoza  Sr. Account Representative        Sales   \n",
      "\n",
      "               Business Unit  Gender Ethnicity   Age   Hire Date  \\\n",
      "0              Manufacturing    Male     Asian  47.0    2/5/2022   \n",
      "1                  Corporate    Male     Asian  58.0  10/23/2013   \n",
      "2     Research & Development    Male     Asian  34.0   3/24/2019   \n",
      "3                  Corporate  Female    Latino  39.0    4/7/2018   \n",
      "4                  Corporate  Female    Latino  42.0   6/18/2005   \n",
      "...                      ...     ...       ...   ...         ...   \n",
      "1257           Manufacturing  Female     Asian  54.0  11/14/2009   \n",
      "1258  Research & Development  Female    Latino  34.0   10/3/2015   \n",
      "1259      Specialty Products  Female    Latino  53.0   4/13/2020   \n",
      "1260               Corporate  Female     Asian  48.0   9/19/2011   \n",
      "1261               Corporate  Female    Latino  43.0    5/7/2017   \n",
      "\n",
      "     Annual Salary Bonus %        Country       City   Exit Date  \n",
      "0         $92,368       0%  United States   Columbus         NaN  \n",
      "1         $45,703       0%  United States    Chicago         NaN  \n",
      "2         $83,576       0%          China   Shanghai         NaN  \n",
      "3         $98,062       0%  United States    Seattle         NaN  \n",
      "4        $175,391      24%  United States     Austin         NaN  \n",
      "...            ...     ...            ...        ...         ...  \n",
      "1257     $128,791       6%  United States      Miami         NaN  \n",
      "1258     $126,898      10%         Brazil     Manaus         NaN  \n",
      "1259      $93,053       0%         Brazil  Sao Paulo         NaN  \n",
      "1260      $50,513       0%  United States    Seattle  10/30/2019  \n",
      "1261      $86,533       0%  United States   Columbus         NaN  \n",
      "\n",
      "[1262 rows x 14 columns]\n"
     ]
    }
   ],
   "source": [
    "import pandas as pd\n",
    "\n",
    "\n",
    "df = pd.read_csv('EmployeeSampleData1.csv',encoding='ISO-8859-1')\n",
    "print(df)"
   ]
  },
  {
   "cell_type": "code",
   "execution_count": 4,
   "id": "60b31f2e-6efc-46ef-adb0-dd6650efe09d",
   "metadata": {},
   "outputs": [],
   "source": [
    "def indexData(collection, exclude_column):\n",
    "    return collection.drop(columns=[exclude_column])"
   ]
  },
  {
   "cell_type": "code",
   "execution_count": 5,
   "id": "fd5956d0-0204-46ea-b2a8-b8929593f4a2",
   "metadata": {},
   "outputs": [],
   "source": [
    "def delEmpById(collection, employee_id):\n",
    "    return collection[collection['Employee ID'] != employee_id]"
   ]
  },
  {
   "cell_type": "code",
   "execution_count": 6,
   "id": "42f3a342-bf66-4fd5-a5e3-e0f5a922fd04",
   "metadata": {},
   "outputs": [],
   "source": [
    "# Create a collection (in this case, we will use a DataFrame)\n",
    "def createCollection(collection_name):\n",
    "    return pd.DataFrame()\n",
    "\n",
    "# Index the data into the specified collection excluding the given column\n",
    "def indexData(collection, data, exclude_column):\n",
    "    return data.drop(columns=[exclude_column])\n",
    "\n",
    "# Search within the specified collection\n",
    "def searchByColumn(collection, column_name, column_value):\n",
    "    return collection[collection[column_name] == column_value]\n",
    "\n",
    "# Get employee count\n",
    "def getEmpCount(collection):\n",
    "    return len(collection)\n",
    "\n",
    "# Delete an employee by ID\n",
    "def delEmpById(collection, employee_id):\n",
    "    return collection[collection['EmployeeID'] != employee_id]\n",
    "\n",
    "# Get department facet\n",
    "def getDepFacet(collection):\n",
    "    return collection['Department'].value_counts()"
   ]
  },
  {
   "cell_type": "code",
   "execution_count": 8,
   "id": "4087e811-10eb-4491-b2eb-d2c5bc63af42",
   "metadata": {},
   "outputs": [],
   "source": [
    "def searchByColumn(collection, column_name, column_value):\n",
    "    return collection[collection[column_name] == column_value]"
   ]
  },
  {
   "cell_type": "code",
   "execution_count": 9,
   "id": "83b1a734-03cd-4225-966f-4da89d44cede",
   "metadata": {},
   "outputs": [],
   "source": [
    "def getEmpCount(collection):\n",
    "    return len(collection)"
   ]
  },
  {
   "cell_type": "code",
   "execution_count": 10,
   "id": "4a1d064d-0f45-4bc2-b5e7-5113705e31c5",
   "metadata": {},
   "outputs": [],
   "source": [
    "def getDepFacet(collection):\n",
    "    return collection['Department'].value_counts()"
   ]
  },
  {
   "cell_type": "code",
   "execution_count": 11,
   "id": "2b99e5c3-12aa-40e9-9824-d516f818e457",
   "metadata": {},
   "outputs": [
    {
     "name": "stdout",
     "output_type": "stream",
     "text": [
      "Name Collection created successfully.\n",
      "Phone Collection created successfully.\n"
     ]
    }
   ],
   "source": [
    "# Function Executions\n",
    "v_nameCollection = 'sujithkumar'\n",
    "v_phoneCollection = '1020'\n",
    "\n",
    "# Create collections\n",
    "name_collection = createCollection(v_nameCollection)\n",
    "print(\"Name Collection created successfully.\")\n",
    "\n",
    "phone_collection = createCollection(v_phoneCollection)\n",
    "print(\"Phone Collection created successfully.\")"
   ]
  },
  {
   "cell_type": "code",
   "execution_count": 12,
   "id": "c07b3069-79c6-4f3e-a5df-db61c2fed192",
   "metadata": {},
   "outputs": [
    {
     "name": "stdout",
     "output_type": "stream",
     "text": [
      "Employee Count (Name Collection): 0\n"
     ]
    }
   ],
   "source": [
    "# Get employee count\n",
    "print(\"Employee Count (Name Collection):\", getEmpCount(name_collection))"
   ]
  },
  {
   "cell_type": "code",
   "execution_count": 13,
   "id": "9d84e10b-e61d-43ca-85d2-0ce826e06e0f",
   "metadata": {},
   "outputs": [],
   "source": [
    "# Function Definitions\n",
    "def createCollection(collection_name):\n",
    "    return employee_df.copy()  # Create a new DataFrame based on the existing one"
   ]
  },
  {
   "cell_type": "code",
   "execution_count": 27,
   "id": "ea2483f9-4378-4aae-9a2a-432a2e93b975",
   "metadata": {},
   "outputs": [
    {
     "name": "stdout",
     "output_type": "stream",
     "text": [
      "Data indexed successfully, excluding the 'Department' column.\n",
      "         Name  Age\n",
      "0    John Doe   30\n",
      "1  Jane Smith   25\n"
     ]
    }
   ],
   "source": [
    "import pandas as pd\n",
    "\n",
    "# Example of defining the indexData function\n",
    "def indexData(collection, exclude_column=None):\n",
    "    # Assuming collection is a pandas DataFrame\n",
    "    if exclude_column and exclude_column in collection.columns:\n",
    "        return collection.drop(columns=[exclude_column])\n",
    "    return collection\n",
    "\n",
    "# Sample DataFrame (simulating your employee data)\n",
    "data = {'Name': ['John Doe', 'Jane Smith'],\n",
    "        'Age': [30, 25],\n",
    "        'Department': ['HR', 'Engineering']}\n",
    "\n",
    "name_collection = pd.DataFrame(data)\n",
    "\n",
    "# Indexing the data, excluding the 'Department' column\n",
    "indexed_name_collection = indexData(name_collection, 'Department')\n",
    "\n",
    "# Print the indexed collection\n",
    "print(\"Data indexed successfully, excluding the 'Department' column.\")\n",
    "print(indexed_name_collection)\n",
    "\n"
   ]
  },
  {
   "cell_type": "code",
   "execution_count": 29,
   "id": "84882a41-2799-4d67-825a-7649079dcf93",
   "metadata": {},
   "outputs": [
    {
     "data": {
      "text/plain": [
       "Index(['Name', 'Age', 'Department'], dtype='object')"
      ]
     },
     "execution_count": 29,
     "metadata": {},
     "output_type": "execute_result"
    }
   ],
   "source": [
    "data = pd.DataFrame.from_dict(data)\n",
    "data.columns\n",
    "data.keys()  \n"
   ]
  },
  {
   "cell_type": "code",
   "execution_count": 17,
   "id": "109addbe-da2a-4589-87bd-2d1627b0654f",
   "metadata": {},
   "outputs": [
    {
     "name": "stdout",
     "output_type": "stream",
     "text": [
      "Updated Employee Count (Name Collection): 0\n"
     ]
    }
   ],
   "source": [
    "# Get updated employee counts\n",
    "print(\"Updated Employee Count (Name Collection):\", getEmpCount(name_collection))"
   ]
  },
  {
   "cell_type": "code",
   "execution_count": 30,
   "id": "b2d95aa8-5470-4964-ad90-10c2f65fa285",
   "metadata": {},
   "outputs": [
    {
     "name": "stdout",
     "output_type": "stream",
     "text": [
      "Employees in IT Department:\n",
      " Empty DataFrame\n",
      "Columns: [Name, Age, Department]\n",
      "Index: []\n"
     ]
    }
   ],
   "source": [
    "# Search by column\n",
    "import pandas as pd\n",
    "\n",
    "# Function to search by a column value\n",
    "def searchByColumn(collection, column_name, value):\n",
    "    # Check if the column exists in the DataFrame\n",
    "    if column_name in collection.columns:\n",
    "        return collection[collection[column_name] == value]\n",
    "    else:\n",
    "        raise KeyError(f\"Column '{column_name}' not found in the collection.\")\n",
    "\n",
    "# Example: Searching for employees in the 'IT' Department\n",
    "search_it_department = searchByColumn(name_collection, 'Department', 'IT')\n",
    "print(\"Employees in IT Department:\\n\", search_it_department)\n"
   ]
  },
  {
   "cell_type": "code",
   "execution_count": 9,
   "id": "00d818a9-c7af-4d0f-98f5-fe28dc8ee6ef",
   "metadata": {},
   "outputs": [
    {
     "ename": "NameError",
     "evalue": "name 'data' is not defined",
     "output_type": "error",
     "traceback": [
      "\u001b[1;31m---------------------------------------------------------------------------\u001b[0m",
      "\u001b[1;31mNameError\u001b[0m                                 Traceback (most recent call last)",
      "Cell \u001b[1;32mIn[9], line 1\u001b[0m\n\u001b[1;32m----> 1\u001b[0m \u001b[38;5;28mprint\u001b[39m(\u001b[38;5;28mtype\u001b[39m(data))  \u001b[38;5;66;03m# Should return <class 'pandas.core.frame.DataFrame'>\u001b[39;00m\n\u001b[0;32m      2\u001b[0m \u001b[38;5;66;03m# If the data is loaded as a dictionary or misread, try this\u001b[39;00m\n\u001b[0;32m      3\u001b[0m data \u001b[38;5;241m=\u001b[39m pd\u001b[38;5;241m.\u001b[39mDataFrame\u001b[38;5;241m.\u001b[39mfrom_dict(data)\n",
      "\u001b[1;31mNameError\u001b[0m: name 'data' is not defined"
     ]
    }
   ],
   "source": [
    "print(type(data))  # Should return <class 'pandas.core.frame.DataFrame'>\n",
    "# If the data is loaded as a dictionary or misread, try this\n",
    "data = pd.DataFrame.from_dict(data)\n",
    "data.columns\n",
    "data.keys()  # To access dictionary keys\n"
   ]
  },
  {
   "cell_type": "code",
   "execution_count": null,
   "id": "ab61b834-cddf-4d29-b98a-5cbf0dd3ceda",
   "metadata": {},
   "outputs": [],
   "source": []
  }
 ],
 "metadata": {
  "kernelspec": {
   "display_name": "Python 3 (ipykernel)",
   "language": "python",
   "name": "python3"
  },
  "language_info": {
   "codemirror_mode": {
    "name": "ipython",
    "version": 3
   },
   "file_extension": ".py",
   "mimetype": "text/x-python",
   "name": "python",
   "nbconvert_exporter": "python",
   "pygments_lexer": "ipython3",
   "version": "3.12.4"
  }
 },
 "nbformat": 4,
 "nbformat_minor": 5
}
